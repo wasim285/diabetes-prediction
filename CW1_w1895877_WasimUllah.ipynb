{
  "cells": [
    {
      "cell_type": "markdown",
      "id": "ff5a7f21-713e-4b3c-a52f-c81acec08641",
      "metadata": {
        "id": "ff5a7f21-713e-4b3c-a52f-c81acec08641"
      },
      "source": [
        "# Part A Literature Review: Application of AI in Healthcare\n",
        "\n",
        "When the health industry introduced artificial intelligence in 1970, there was a huge shift within this industry. With the large availiablity of data in the health sector, technologies like AI have enabled diseases like diabetes to be detected on time and prevented. Diabetes is a chronic condition caused by high blood sugar levels. It affects the proper functioning of the body's major organs, like the heart, kidneys, and eyes, worsening the quality of a person's day-to-day life and adding to mortality rates if it's not managed effectively.\n",
        "\n",
        "Deshpande et al. (2008) reported that in 2005, 20.8 million people were diagnosed with diabetes in the United States alone and 30% of the patients had not been diagnosed. AI has played a pivotal role in addressing this challenge by predicting diabetic patients in earlier diagnosis leading to an overall lower treatment costs, and improving the quality of health by preventing further future risks.\n",
        "\n",
        "---\n",
        "\n",
        "## How Machine Learning techniques were used to detect Diabetes\n",
        "\n",
        "Most Machine Learning techniques, including Random Forest, Support Vector Machines (SVM), and Neural Networks, have already been applied to this task of predicting the risk and progression of diabetes based on a patient's data, which includes glucose levels, BMI, age, and insulin sensitivity, to make accurate predictions.\n",
        "\n",
        "### Random Forest\n",
        "\n",
        "Early detection of diabetes in patients is crucial to prevent further health complications. The traditional methods used in the health sector were initially unable to handle big healthcare datasets. This reduced their predictive accuracy and reliability. AI techniques have been developed to predict diseases at an early stage. Random Forest is one of the ensemble learning techniques in supervised learning, where models are trained on labelled datasets. Input features such as glucose levels and BMI are then paired with known outcomes such as diabetic or non-diabetic status. Soni and Varma (2020) have proved that Random Forest is capable of accurately predicting diabetes with the help of clinical parameters and providing reliable outcomes. This capability enables the algorithm to aid in the identification of diabetes at its earliest and provide useful information for the clinicians. In the work of VijiyaKumar et al. (2019), it is stated that it is effective in processing patient information to generate correct outcomes and assist in the healthcare professionals making accurate and reliable decisions in the industry. In addition, the studies which use the Pima Indian Diabetes Dataset have revealed that the Random Forest classifier is highly efficient in its capability to differentiate between both oh diabetic and non-diabetic patients, thus helpful in early diagnosis (VijiyaKumar et al., 2019).\n",
        "\n",
        "### Support Vector Machines (SVM)\n",
        "\n",
        "Accurately classifying patients as diabetic or non-diabetic is quite a challenge, especially in cases where the healthcare data contains non-linear relationships between features such as glucose levels and BMI. Traditional methods are usually not very successful in terms of accuracy. SVM is another supervised learning algorithm that classifies data into categories by identifying hyperplanes that separate classes. This algorithm has been used in various studies to predict diabetes. For instance, in the paper by Han et al. (2015), the author demonstrated the efficiency of SVMs in diagnosing diabetes through rule extraction, which increased interpretability and maintained performance. Mujumdar and Vaidehi (2019) also found that SVM achieved classification accuracy exceeding 80% in predicting diabetic and non-diabetic cases, demonstrating its reliability in handling healthcare data.\n",
        "\n",
        "### Neural Networks\n",
        "\n",
        "Neural networks are inspired by the architecture of the human brain and is an algorithm that mimics the human mind. Just as the human mind can recognise subtle patterns in a patient's symptoms and medical history, neural networks can identify more complex relationships in clinical data, such as glucose levels or BMI. Shanker (1996) explored the use of neural networks to predict the onset of diabetes among Pima Indian women, achieving high classification rates of approximately 78% in training and 81% in test samples. This study highlighted how neural networks are capable of handling non-linear relationships, improving predictive accuracy compared to traditional methods. The advancements in computational power have allowed further applications of Neural Networks. Shulman et al. (2023) demonstrated that Neural Networks outperform traditional methods in predicting diabetes-related complications, strengthening accuracy.\n",
        "\n",
        "### Logistic Regression\n",
        "\n",
        "Logistic Regression models the relationship between the dependent variable (e.g., diabetes status) and one or more independent variables (e.g., glucose levels, BMI) to make estimations using probability. To predict whether a patient is diabetic or non-diabetic, binary classifications are used. Rajendra and Latifi (2021) showed that Logistic Regression achieved an accuracy of 74% on the Pima Indian Diabetes Dataset, which was further improved when feature selection and ensemble techniques were combined. Razavian et al. (2015) used models of logistic regression to predict the onset of type 2 diabetes using the data of population-level. Their study emphasised the importance of risk factor analysis and shownn that logistic regression could effectively identify individuals at high risk for diabetes based on historical data.\n",
        "\n",
        "### K-means Clustering\n",
        "\n",
        "For Diabetes prediction, K-means is an unsupervised learning technique that groups patients based on shared characteristics in healthcare data. It does not use labelled data like supervised learning; instead, it segments this data into clusters. This can be applied to diabetes prediction, where patients are classified as \"high-risk\" and \"low-risk\" based on their glucose levels or BMI. According to Ellaham (2020), clustering techniques function well in finding the hidden patterns within medical data and allocating these resources, supporting diabetes management.\n",
        "\n",
        "---"
      ]
    },
    {
      "cell_type": "markdown",
      "id": "68704f13-e999-4996-b17f-9b05dd4c78d0",
      "metadata": {
        "id": "68704f13-e999-4996-b17f-9b05dd4c78d0"
      },
      "source": [
        "## Part B – Compare and Evaluate AI techniques\n",
        "\n",
        "\n",
        "The chosen domain for this assignment is Healthcare, with a focus on exploring diabetes prediction using three AI techniques: Neural Networks, Logistic Regression, and K-means Clustering.\n",
        "\n",
        "## K-means\n",
        "The first technique that will be considered is K-means clustering, which is an unsupervised learning technique that can be applied in the healthcare domain and in this case for diabetes prediction. The method is effective for exploratory data analysis in the diabetes dataset as it can uncover hidden patterns within this dataset by segmenting in clusters based on similar characteristics, such as their age, BMI, glucose levels, and other health metrics.\n",
        "\n",
        "An advantage of using K-Means in this domain is that it does not require labelled data like a supervised learning technique does which makes it advantageous in cases where the dataset lacks reliable outcome labels. K-Means achieves this by grouping similar data points, uncovers hidden patterns in the dataset and simplifies complex data, making it more interpretable.\n",
        "However, K-Means has limitations that must be considered prior to using this in predicting diabetes as it needs the number of predefined clusters which makes it a challenge to determine without prior knowledge of the dataset’s structure. Another disadvantage in using K-Means is that the algorithm assumes clusters are spherical and evenly distributed and this may not align with real-world data that is included in the Pima Indian diabetes dataset. It also can lead to lead to inconsistent results because of its sensitivity to the initialisation of cluster centroids.\n",
        "\n",
        "K-Means is well-suited to the Pima Indian Diabetes dataset as the dataset provides numerical features of glucose, BMI, and age. Use of data preprocessing steps will make sure all variables contribute equally to clustering. The time to setup is minimal, requiring only basic preprocessing and experimentation with K values. The time to produce results is also short, with K-Means converging quickly, usually within seconds.\n",
        "Comparing this machine learning algorthim to the other two supervised learning techniques, K-Means is less effective for direct classification of diabetes.\n",
        "\n",
        "Logistic regression and neural networks are both supervised learning techniques and use labelled data which makes it designed to predict outcomes like if diabetes is present in a person. Whereas K-Means can only group data based on feature similarity without associating clusters to specific outcomes. This makes K-Means unsuitable for tasks requiring precise predictions including calculating the likelihood of diabetes for an individual patient. Moreover, K-Means does not provide the interpretability of logistic regression, which clearly explains the relationship between features and the target variable and does not have the capability of neural networks has in capturing complex, non-linear relationships within the data.\n",
        "\n",
        "## Neural Networks\n",
        "My next chosen technique is neural networks as it is known for being increasingly applied in diabetes prediction and its ability to analyse complex patterns in large datasets. It also can process various types of data, including structured data which is advantageous as the Pima dataset includes structured data like patient health records. Neural networks are useful when the relationships between variables are non-linear where changes in one variable do not result in proportional changes in the target variable in this case the outcome of the diabetic or non-diabetic patient.\n",
        "\n",
        "Neural networks use labelled datasets as it is a supervised learning model. This makes the Pima Indian Diabetes dataset suitable for this application as the dataset has 768 samples and features like glucose, BMI, and age, so the dataset provides enough information for training the model. However, usually much larger datasets improve neural network performance and smaller datasets like the Pima Indian Database, and this could lead to overfitting or insufficient learning.\n",
        "\n",
        "Neural networks use a lot of computational power especially during training of the model. The time required during the training depends on factors like the dataset size, complexity of the network, and hardware capabilities. Despite this being a limitation, predictions on new data are almost instant once the model is trained.\n",
        "\n",
        "In conclusion for diabetes classification using neural networks can be a highly effective model due to its ability to capture complex, non-linear relationships in the Pima Indian dataset data for example the interactions between glucose, BMI, and insulin. However, their complexity, longer setup, and lack of interpretability make them less practical for quick or explainable implementations. Despite this, their accuracy and adaptability make them the strongest choice for handling the intricacies of the Pima Indian Diabetes dataset.\n",
        "\n",
        "## Logistic Regression\n",
        "Logistic regression is a simple and interpretable supervised learning algorithm widely used for binary classification tasks, such as predicting diabetes based on clinical features like glucose levels, BMI, and age.\n",
        "\n",
        "Logistic regression requires labeled data just like neural networks as they both use supervised learning. With clear input features and corresponding outcomes, making the Pima Indian Diabetes dataset well-suited for this technique. The dataset provides numerical features and binary labels in this instance diabetes or non-diabetes. Logistic regression works best with datasets that are not excessively large or noisy as its performance can degrade when there are complex, non-linear relationships between the input features which is the reason why it pairs well with the data in the Pima Indian database.\n",
        "The logistic regression is a time saving method compared to the other techniques and requires basic preprocessing, such as handling missing values and normalising features, to ensure optimal performance. Libraries like scikit-learn make the implementation quick and user-friendly.\n",
        "\n",
        "Logistic regression is computationally efficient and produces results quickly, even on relatively large datasets like the Pima Indian database which has 768 samples. Training the model takes a matter of seconds, and predictions on new data are instantaneous. This makes logistic regression a a suitable choice for scenarios where time is a constraint.\n",
        "Logistic regression provides a probabilistic output which gives the likelihood of a patient having diabetes or not. This makes it easy to interpret and apply classification likehigh-risk or low-risk patients, helping to distinct patients into categories.\n",
        "\n",
        "Another advantage of Logistic regression is that it is highly interpretable in lot of cases, it is simple to implement, and computationally efficient. It performs well on smaller datasets with linear relationships between features and the target variable. However, its disadvantage is its inability to model non-linear relationships or complex interactions between features. Unlike neural networks, which can capture intricate patterns, logistic regression may underperform in datasets like the Pima Indian Diabetes dataset if non-linear interactions (e.g., between glucose and BMI) play a significant role in determining diabetes risk.\n",
        "\n",
        "Logistic regression involves well-structured numerical data and assumes a linear relationship between features and the outcome. It outputs a probability score that can be used to classify patients as diabetic or non-diabetic. Compared to neural networks, which need larger datasets to perform well and produce more complex outputs, logistic regression is more suitable for smaller datasets where interpretability and quick implementation are priorities.\n",
        "In conclusion, logistic regression is an excellent baseline model for diabetes prediction in this chosen dataset, providing fast, interpretable, and reliable results when the data meets its assumptions. However, for more complex relationships and larger diabetes dataset than the Pima Indian database, techniques like neural networks might have better accuracy.\n",
        "\n",
        "After evaluating K-Means clustering, Neural Networks, and Logistic Regression, the chosen technique for diabetes prediction is Logistic Regression. This method is selected for its simplicity, interpretability, and computational efficiency, which align well with the structure and size of the Pima Indian Diabetes dataset. Logistic Regression performs well on smaller datasets with linear relationships, such as the one used in this project, where features like glucose, BMI, and age are strong predictors of diabetes.\n",
        "\n",
        "---"
      ]
    },
    {
      "cell_type": "markdown",
      "id": "96061f95-6212-4f6e-ac0e-e9b6794f06b2",
      "metadata": {
        "id": "96061f95-6212-4f6e-ac0e-e9b6794f06b2"
      },
      "source": [
        "### Part C - Implementation"
      ]
    },
    {
      "cell_type": "markdown",
      "id": "b6de088f-09ab-4c07-b6d2-7c1ce479dc88",
      "metadata": {
        "id": "b6de088f-09ab-4c07-b6d2-7c1ce479dc88"
      },
      "source": [
        "![System Architecture Flowchart](https://drive.google.com/uc?id=1RFEogtUtl6vGqcAiW-2wEFPyqhnrYMm4)\n",
        "\n",
        "\n",
        "## Diagram Google Drive Link: https://drive.google.com/file/d/1RFEogtUtl6vGqcAiW-2wEFPyqhnrYMm4/view?usp=drive_link\n",
        "\n",
        "\n"
      ]
    },
    {
      "cell_type": "markdown",
      "source": [
        "### Input Description\n",
        "The input is a tabular datatset containing structured data of medical attributes of individuals which are relevant to diabetes prediction.It includes 768 samples. The attributes include:\n",
        "- **Pregnancies**: Number of times the individual has been pregnant.\n",
        "- **Glucose**: Plasma glucose concentration after a 2-hour oral glucose tolerance test.\n",
        "- **BloodPressure**: Diastolic blood pressure (mm Hg).\n",
        "- **SkinThickness**: Triceps skin fold thickness (mm).\n",
        "- **Insulin**: 2-hour serum insulin (mu U/ml).\n",
        "- **BMI**: Body mass index (weight in kg/(height in m)^2).\n",
        "- **DiabetesPedigreeFunction**: A function that scores the likelihood of diabetes based on family history.\n",
        "- **Age**: Age of the individual in years.\n",
        "- **Outcome**: The target variable (0 = Non-Diabetic, 1 = Diabetic).\n",
        "\n",
        "\n",
        "The data for this implementation is sourced from the publicly available Pima Indians Diabetes dataset, used for diabetes prediction. For this project, the dataset was accessed through an online repository in CSV format.\n",
        "\n",
        "\n",
        "### Data Preparation and Format\n",
        "\n",
        "The dataset requires preparation to ensure it works with the logistic regression model and effective analysis. This involves several steps, including formatting, handling missing values, exploratory data analysis (EDA), visualisation, and splitting the data.\n",
        "\n",
        "#### File Format\n",
        "The input data is required in a CSV file, which is easy to load  in Python  pandas library.\n",
        "\n",
        "#### Feature Types\n",
        "All features are numerical which works well with the machine learning algorithm that I am using, logistic regression. The target variable, **Outcome**, is binary (0 or 1), which is essential for classification tasks.\n",
        "\n",
        "#### Handling Missing or Invalid Values\n",
        "Some features, such as **BMI**, **Glucose**, and **Insulin**, occasionally have zero or invalid values that need to be addressed. Zeros in these features are treated as missing values and replaced with meaningful values, such as the **mean** or **median** of the respective column. This step ensures that the dataset is clean and consistent for training the model.\n",
        "\n",
        "#### Exploratory Data Analysis (EDA)\n",
        "EDA involves examining the data to identify patterns, relationships, and potential issues. Descriptive statistics are generated using .describe() to understand the distributions of features. A correlation matrix is plotted to identify relationships between features and the target variable.\n",
        "\n",
        "#### Data Visualisation\n",
        "Visualisation helps in identifying trends and anomalies in the dataset. Histograms or density plots are used to inspect the distribution of numerical features like BMI or Glucose. Box plots can identify outliers in features. A heatmap is used to visualise correlations between features, helping to highlight the most relevant attributes for predicting diabetes.\n",
        "\n",
        "#### Data Preprocessing\n",
        "After EDA and visualisation, the data is cleaned and prepared for model training. Missing or invalid values are replaced with column means. The target variable is encoded as binary (0 or 1) if it is not already in that format.\n",
        "\n",
        "#### Splitting\n",
        "The dataset is split into features (X) and the target variable (y). The data is then divided into training and testing sets. The training set, includes 80% of the data, is used to train the model, while the remaining 20% is used for evaluation.\n",
        "\n"
      ],
      "metadata": {
        "id": "-uwk3ZoeI6N3"
      },
      "id": "-uwk3ZoeI6N3"
    },
    {
      "cell_type": "markdown",
      "id": "22fbc1cb-be8e-44a0-a28e-41ca7e6d1178",
      "metadata": {
        "id": "22fbc1cb-be8e-44a0-a28e-41ca7e6d1178"
      },
      "source": [
        "## **Packages**"
      ]
    },
    {
      "cell_type": "code",
      "execution_count": 1,
      "id": "457b1ba7-fee3-4cbf-bf34-6c9f68482c7e",
      "metadata": {
        "colab": {
          "base_uri": "https://localhost:8080/"
        },
        "id": "457b1ba7-fee3-4cbf-bf34-6c9f68482c7e",
        "outputId": "65f8b32a-72c5-4007-9d60-babcaaf52bcd"
      },
      "outputs": [
        {
          "output_type": "stream",
          "name": "stdout",
          "text": [
            "Requirement already satisfied: pandas in /usr/local/lib/python3.10/dist-packages (2.2.2)\n",
            "Requirement already satisfied: numpy in /usr/local/lib/python3.10/dist-packages (1.26.4)\n",
            "Requirement already satisfied: matplotlib in /usr/local/lib/python3.10/dist-packages (3.8.0)\n",
            "Requirement already satisfied: seaborn in /usr/local/lib/python3.10/dist-packages (0.13.2)\n",
            "Requirement already satisfied: scikit-learn in /usr/local/lib/python3.10/dist-packages (1.6.0)\n",
            "Requirement already satisfied: python-dateutil>=2.8.2 in /usr/local/lib/python3.10/dist-packages (from pandas) (2.8.2)\n",
            "Requirement already satisfied: pytz>=2020.1 in /usr/local/lib/python3.10/dist-packages (from pandas) (2024.2)\n",
            "Requirement already satisfied: tzdata>=2022.7 in /usr/local/lib/python3.10/dist-packages (from pandas) (2024.2)\n",
            "Requirement already satisfied: contourpy>=1.0.1 in /usr/local/lib/python3.10/dist-packages (from matplotlib) (1.3.1)\n",
            "Requirement already satisfied: cycler>=0.10 in /usr/local/lib/python3.10/dist-packages (from matplotlib) (0.12.1)\n",
            "Requirement already satisfied: fonttools>=4.22.0 in /usr/local/lib/python3.10/dist-packages (from matplotlib) (4.55.3)\n",
            "Requirement already satisfied: kiwisolver>=1.0.1 in /usr/local/lib/python3.10/dist-packages (from matplotlib) (1.4.7)\n",
            "Requirement already satisfied: packaging>=20.0 in /usr/local/lib/python3.10/dist-packages (from matplotlib) (24.2)\n",
            "Requirement already satisfied: pillow>=6.2.0 in /usr/local/lib/python3.10/dist-packages (from matplotlib) (11.0.0)\n",
            "Requirement already satisfied: pyparsing>=2.3.1 in /usr/local/lib/python3.10/dist-packages (from matplotlib) (3.2.0)\n",
            "Requirement already satisfied: scipy>=1.6.0 in /usr/local/lib/python3.10/dist-packages (from scikit-learn) (1.13.1)\n",
            "Requirement already satisfied: joblib>=1.2.0 in /usr/local/lib/python3.10/dist-packages (from scikit-learn) (1.4.2)\n",
            "Requirement already satisfied: threadpoolctl>=3.1.0 in /usr/local/lib/python3.10/dist-packages (from scikit-learn) (3.5.0)\n",
            "Requirement already satisfied: six>=1.5 in /usr/local/lib/python3.10/dist-packages (from python-dateutil>=2.8.2->pandas) (1.17.0)\n"
          ]
        }
      ],
      "source": [
        "!pip install pandas numpy matplotlib seaborn scikit-learn\n"
      ]
    },
    {
      "cell_type": "markdown",
      "id": "3a12e566-36f4-474a-9b33-5743c069dd59",
      "metadata": {
        "id": "3a12e566-36f4-474a-9b33-5743c069dd59"
      },
      "source": [
        "## **Imports**"
      ]
    },
    {
      "cell_type": "code",
      "execution_count": 2,
      "id": "9484a900-2262-4960-bbd3-f69f55f9d3d1",
      "metadata": {
        "id": "9484a900-2262-4960-bbd3-f69f55f9d3d1"
      },
      "outputs": [],
      "source": [
        "import pandas as pd\n",
        "import numpy as np\n",
        "\n",
        "\n",
        "import matplotlib.pyplot as plt\n",
        "import seaborn as sns\n",
        "\n",
        "from sklearn.model_selection import train_test_split\n",
        "from sklearn.preprocessing import StandardScaler\n",
        "from sklearn.metrics import classification_report, confusion_matrix, RocCurveDisplay\n",
        "\n",
        "\n",
        "from sklearn.linear_model import LogisticRegression\n"
      ]
    },
    {
      "cell_type": "markdown",
      "id": "e77c22ab-d007-4a00-b0dc-8b8b6edb68e9",
      "metadata": {
        "id": "e77c22ab-d007-4a00-b0dc-8b8b6edb68e9"
      },
      "source": [
        "###  **Load Dataset**  "
      ]
    },
    {
      "cell_type": "code",
      "execution_count": 3,
      "id": "3481771e-2285-444c-b65e-b2de206a88e0",
      "metadata": {
        "id": "3481771e-2285-444c-b65e-b2de206a88e0"
      },
      "outputs": [],
      "source": [
        "url = \"https://raw.githubusercontent.com/wasim285/diabetes-prediction/main/PimaIndiansDiabetes.csv\"\n",
        "\n",
        "# Load the dataset\n",
        "data = pd.read_csv(url)"
      ]
    },
    {
      "cell_type": "markdown",
      "id": "bc715b9d-35dc-4f40-913c-e69fef3fc594",
      "metadata": {
        "id": "bc715b9d-35dc-4f40-913c-e69fef3fc594"
      },
      "source": [
        "###  **Exploratory Data Analysis (EDA)**"
      ]
    },
    {
      "cell_type": "code",
      "execution_count": 4,
      "id": "36e37c2c-9617-4cf1-a169-b0c33e5c1d25",
      "metadata": {
        "colab": {
          "base_uri": "https://localhost:8080/",
          "height": 206
        },
        "id": "36e37c2c-9617-4cf1-a169-b0c33e5c1d25",
        "outputId": "6db258d6-a63a-405c-f587-6128c51b0259"
      },
      "outputs": [
        {
          "output_type": "execute_result",
          "data": {
            "text/plain": [
              "   Pregnancies  Glucose  BloodPressure  SkinThickness  Insulin   BMI  \\\n",
              "0            6      148             72             35        0  33.6   \n",
              "1            1       85             66             29        0  26.6   \n",
              "2            8      183             64              0        0  23.3   \n",
              "3            1       89             66             23       94  28.1   \n",
              "4            0      137             40             35      168  43.1   \n",
              "\n",
              "   DiabetesPedigreeFunction  Age  Outcome  \n",
              "0                     0.627   50        1  \n",
              "1                     0.351   31        0  \n",
              "2                     0.672   32        1  \n",
              "3                     0.167   21        0  \n",
              "4                     2.288   33        1  "
            ],
            "text/html": [
              "\n",
              "  <div id=\"df-9d2d357f-0c41-4b80-82aa-7ab3fb92b0f0\" class=\"colab-df-container\">\n",
              "    <div>\n",
              "<style scoped>\n",
              "    .dataframe tbody tr th:only-of-type {\n",
              "        vertical-align: middle;\n",
              "    }\n",
              "\n",
              "    .dataframe tbody tr th {\n",
              "        vertical-align: top;\n",
              "    }\n",
              "\n",
              "    .dataframe thead th {\n",
              "        text-align: right;\n",
              "    }\n",
              "</style>\n",
              "<table border=\"1\" class=\"dataframe\">\n",
              "  <thead>\n",
              "    <tr style=\"text-align: right;\">\n",
              "      <th></th>\n",
              "      <th>Pregnancies</th>\n",
              "      <th>Glucose</th>\n",
              "      <th>BloodPressure</th>\n",
              "      <th>SkinThickness</th>\n",
              "      <th>Insulin</th>\n",
              "      <th>BMI</th>\n",
              "      <th>DiabetesPedigreeFunction</th>\n",
              "      <th>Age</th>\n",
              "      <th>Outcome</th>\n",
              "    </tr>\n",
              "  </thead>\n",
              "  <tbody>\n",
              "    <tr>\n",
              "      <th>0</th>\n",
              "      <td>6</td>\n",
              "      <td>148</td>\n",
              "      <td>72</td>\n",
              "      <td>35</td>\n",
              "      <td>0</td>\n",
              "      <td>33.6</td>\n",
              "      <td>0.627</td>\n",
              "      <td>50</td>\n",
              "      <td>1</td>\n",
              "    </tr>\n",
              "    <tr>\n",
              "      <th>1</th>\n",
              "      <td>1</td>\n",
              "      <td>85</td>\n",
              "      <td>66</td>\n",
              "      <td>29</td>\n",
              "      <td>0</td>\n",
              "      <td>26.6</td>\n",
              "      <td>0.351</td>\n",
              "      <td>31</td>\n",
              "      <td>0</td>\n",
              "    </tr>\n",
              "    <tr>\n",
              "      <th>2</th>\n",
              "      <td>8</td>\n",
              "      <td>183</td>\n",
              "      <td>64</td>\n",
              "      <td>0</td>\n",
              "      <td>0</td>\n",
              "      <td>23.3</td>\n",
              "      <td>0.672</td>\n",
              "      <td>32</td>\n",
              "      <td>1</td>\n",
              "    </tr>\n",
              "    <tr>\n",
              "      <th>3</th>\n",
              "      <td>1</td>\n",
              "      <td>89</td>\n",
              "      <td>66</td>\n",
              "      <td>23</td>\n",
              "      <td>94</td>\n",
              "      <td>28.1</td>\n",
              "      <td>0.167</td>\n",
              "      <td>21</td>\n",
              "      <td>0</td>\n",
              "    </tr>\n",
              "    <tr>\n",
              "      <th>4</th>\n",
              "      <td>0</td>\n",
              "      <td>137</td>\n",
              "      <td>40</td>\n",
              "      <td>35</td>\n",
              "      <td>168</td>\n",
              "      <td>43.1</td>\n",
              "      <td>2.288</td>\n",
              "      <td>33</td>\n",
              "      <td>1</td>\n",
              "    </tr>\n",
              "  </tbody>\n",
              "</table>\n",
              "</div>\n",
              "    <div class=\"colab-df-buttons\">\n",
              "\n",
              "  <div class=\"colab-df-container\">\n",
              "    <button class=\"colab-df-convert\" onclick=\"convertToInteractive('df-9d2d357f-0c41-4b80-82aa-7ab3fb92b0f0')\"\n",
              "            title=\"Convert this dataframe to an interactive table.\"\n",
              "            style=\"display:none;\">\n",
              "\n",
              "  <svg xmlns=\"http://www.w3.org/2000/svg\" height=\"24px\" viewBox=\"0 -960 960 960\">\n",
              "    <path d=\"M120-120v-720h720v720H120Zm60-500h600v-160H180v160Zm220 220h160v-160H400v160Zm0 220h160v-160H400v160ZM180-400h160v-160H180v160Zm440 0h160v-160H620v160ZM180-180h160v-160H180v160Zm440 0h160v-160H620v160Z\"/>\n",
              "  </svg>\n",
              "    </button>\n",
              "\n",
              "  <style>\n",
              "    .colab-df-container {\n",
              "      display:flex;\n",
              "      gap: 12px;\n",
              "    }\n",
              "\n",
              "    .colab-df-convert {\n",
              "      background-color: #E8F0FE;\n",
              "      border: none;\n",
              "      border-radius: 50%;\n",
              "      cursor: pointer;\n",
              "      display: none;\n",
              "      fill: #1967D2;\n",
              "      height: 32px;\n",
              "      padding: 0 0 0 0;\n",
              "      width: 32px;\n",
              "    }\n",
              "\n",
              "    .colab-df-convert:hover {\n",
              "      background-color: #E2EBFA;\n",
              "      box-shadow: 0px 1px 2px rgba(60, 64, 67, 0.3), 0px 1px 3px 1px rgba(60, 64, 67, 0.15);\n",
              "      fill: #174EA6;\n",
              "    }\n",
              "\n",
              "    .colab-df-buttons div {\n",
              "      margin-bottom: 4px;\n",
              "    }\n",
              "\n",
              "    [theme=dark] .colab-df-convert {\n",
              "      background-color: #3B4455;\n",
              "      fill: #D2E3FC;\n",
              "    }\n",
              "\n",
              "    [theme=dark] .colab-df-convert:hover {\n",
              "      background-color: #434B5C;\n",
              "      box-shadow: 0px 1px 3px 1px rgba(0, 0, 0, 0.15);\n",
              "      filter: drop-shadow(0px 1px 2px rgba(0, 0, 0, 0.3));\n",
              "      fill: #FFFFFF;\n",
              "    }\n",
              "  </style>\n",
              "\n",
              "    <script>\n",
              "      const buttonEl =\n",
              "        document.querySelector('#df-9d2d357f-0c41-4b80-82aa-7ab3fb92b0f0 button.colab-df-convert');\n",
              "      buttonEl.style.display =\n",
              "        google.colab.kernel.accessAllowed ? 'block' : 'none';\n",
              "\n",
              "      async function convertToInteractive(key) {\n",
              "        const element = document.querySelector('#df-9d2d357f-0c41-4b80-82aa-7ab3fb92b0f0');\n",
              "        const dataTable =\n",
              "          await google.colab.kernel.invokeFunction('convertToInteractive',\n",
              "                                                    [key], {});\n",
              "        if (!dataTable) return;\n",
              "\n",
              "        const docLinkHtml = 'Like what you see? Visit the ' +\n",
              "          '<a target=\"_blank\" href=https://colab.research.google.com/notebooks/data_table.ipynb>data table notebook</a>'\n",
              "          + ' to learn more about interactive tables.';\n",
              "        element.innerHTML = '';\n",
              "        dataTable['output_type'] = 'display_data';\n",
              "        await google.colab.output.renderOutput(dataTable, element);\n",
              "        const docLink = document.createElement('div');\n",
              "        docLink.innerHTML = docLinkHtml;\n",
              "        element.appendChild(docLink);\n",
              "      }\n",
              "    </script>\n",
              "  </div>\n",
              "\n",
              "\n",
              "<div id=\"df-90c75644-f5ee-4164-adec-f19f91e7f666\">\n",
              "  <button class=\"colab-df-quickchart\" onclick=\"quickchart('df-90c75644-f5ee-4164-adec-f19f91e7f666')\"\n",
              "            title=\"Suggest charts\"\n",
              "            style=\"display:none;\">\n",
              "\n",
              "<svg xmlns=\"http://www.w3.org/2000/svg\" height=\"24px\"viewBox=\"0 0 24 24\"\n",
              "     width=\"24px\">\n",
              "    <g>\n",
              "        <path d=\"M19 3H5c-1.1 0-2 .9-2 2v14c0 1.1.9 2 2 2h14c1.1 0 2-.9 2-2V5c0-1.1-.9-2-2-2zM9 17H7v-7h2v7zm4 0h-2V7h2v10zm4 0h-2v-4h2v4z\"/>\n",
              "    </g>\n",
              "</svg>\n",
              "  </button>\n",
              "\n",
              "<style>\n",
              "  .colab-df-quickchart {\n",
              "      --bg-color: #E8F0FE;\n",
              "      --fill-color: #1967D2;\n",
              "      --hover-bg-color: #E2EBFA;\n",
              "      --hover-fill-color: #174EA6;\n",
              "      --disabled-fill-color: #AAA;\n",
              "      --disabled-bg-color: #DDD;\n",
              "  }\n",
              "\n",
              "  [theme=dark] .colab-df-quickchart {\n",
              "      --bg-color: #3B4455;\n",
              "      --fill-color: #D2E3FC;\n",
              "      --hover-bg-color: #434B5C;\n",
              "      --hover-fill-color: #FFFFFF;\n",
              "      --disabled-bg-color: #3B4455;\n",
              "      --disabled-fill-color: #666;\n",
              "  }\n",
              "\n",
              "  .colab-df-quickchart {\n",
              "    background-color: var(--bg-color);\n",
              "    border: none;\n",
              "    border-radius: 50%;\n",
              "    cursor: pointer;\n",
              "    display: none;\n",
              "    fill: var(--fill-color);\n",
              "    height: 32px;\n",
              "    padding: 0;\n",
              "    width: 32px;\n",
              "  }\n",
              "\n",
              "  .colab-df-quickchart:hover {\n",
              "    background-color: var(--hover-bg-color);\n",
              "    box-shadow: 0 1px 2px rgba(60, 64, 67, 0.3), 0 1px 3px 1px rgba(60, 64, 67, 0.15);\n",
              "    fill: var(--button-hover-fill-color);\n",
              "  }\n",
              "\n",
              "  .colab-df-quickchart-complete:disabled,\n",
              "  .colab-df-quickchart-complete:disabled:hover {\n",
              "    background-color: var(--disabled-bg-color);\n",
              "    fill: var(--disabled-fill-color);\n",
              "    box-shadow: none;\n",
              "  }\n",
              "\n",
              "  .colab-df-spinner {\n",
              "    border: 2px solid var(--fill-color);\n",
              "    border-color: transparent;\n",
              "    border-bottom-color: var(--fill-color);\n",
              "    animation:\n",
              "      spin 1s steps(1) infinite;\n",
              "  }\n",
              "\n",
              "  @keyframes spin {\n",
              "    0% {\n",
              "      border-color: transparent;\n",
              "      border-bottom-color: var(--fill-color);\n",
              "      border-left-color: var(--fill-color);\n",
              "    }\n",
              "    20% {\n",
              "      border-color: transparent;\n",
              "      border-left-color: var(--fill-color);\n",
              "      border-top-color: var(--fill-color);\n",
              "    }\n",
              "    30% {\n",
              "      border-color: transparent;\n",
              "      border-left-color: var(--fill-color);\n",
              "      border-top-color: var(--fill-color);\n",
              "      border-right-color: var(--fill-color);\n",
              "    }\n",
              "    40% {\n",
              "      border-color: transparent;\n",
              "      border-right-color: var(--fill-color);\n",
              "      border-top-color: var(--fill-color);\n",
              "    }\n",
              "    60% {\n",
              "      border-color: transparent;\n",
              "      border-right-color: var(--fill-color);\n",
              "    }\n",
              "    80% {\n",
              "      border-color: transparent;\n",
              "      border-right-color: var(--fill-color);\n",
              "      border-bottom-color: var(--fill-color);\n",
              "    }\n",
              "    90% {\n",
              "      border-color: transparent;\n",
              "      border-bottom-color: var(--fill-color);\n",
              "    }\n",
              "  }\n",
              "</style>\n",
              "\n",
              "  <script>\n",
              "    async function quickchart(key) {\n",
              "      const quickchartButtonEl =\n",
              "        document.querySelector('#' + key + ' button');\n",
              "      quickchartButtonEl.disabled = true;  // To prevent multiple clicks.\n",
              "      quickchartButtonEl.classList.add('colab-df-spinner');\n",
              "      try {\n",
              "        const charts = await google.colab.kernel.invokeFunction(\n",
              "            'suggestCharts', [key], {});\n",
              "      } catch (error) {\n",
              "        console.error('Error during call to suggestCharts:', error);\n",
              "      }\n",
              "      quickchartButtonEl.classList.remove('colab-df-spinner');\n",
              "      quickchartButtonEl.classList.add('colab-df-quickchart-complete');\n",
              "    }\n",
              "    (() => {\n",
              "      let quickchartButtonEl =\n",
              "        document.querySelector('#df-90c75644-f5ee-4164-adec-f19f91e7f666 button');\n",
              "      quickchartButtonEl.style.display =\n",
              "        google.colab.kernel.accessAllowed ? 'block' : 'none';\n",
              "    })();\n",
              "  </script>\n",
              "</div>\n",
              "\n",
              "    </div>\n",
              "  </div>\n"
            ],
            "application/vnd.google.colaboratory.intrinsic+json": {
              "type": "dataframe",
              "variable_name": "data",
              "summary": "{\n  \"name\": \"data\",\n  \"rows\": 768,\n  \"fields\": [\n    {\n      \"column\": \"Pregnancies\",\n      \"properties\": {\n        \"dtype\": \"number\",\n        \"std\": 3,\n        \"min\": 0,\n        \"max\": 17,\n        \"num_unique_values\": 17,\n        \"samples\": [\n          6,\n          1,\n          3\n        ],\n        \"semantic_type\": \"\",\n        \"description\": \"\"\n      }\n    },\n    {\n      \"column\": \"Glucose\",\n      \"properties\": {\n        \"dtype\": \"number\",\n        \"std\": 31,\n        \"min\": 0,\n        \"max\": 199,\n        \"num_unique_values\": 136,\n        \"samples\": [\n          151,\n          101,\n          112\n        ],\n        \"semantic_type\": \"\",\n        \"description\": \"\"\n      }\n    },\n    {\n      \"column\": \"BloodPressure\",\n      \"properties\": {\n        \"dtype\": \"number\",\n        \"std\": 19,\n        \"min\": 0,\n        \"max\": 122,\n        \"num_unique_values\": 47,\n        \"samples\": [\n          86,\n          46,\n          85\n        ],\n        \"semantic_type\": \"\",\n        \"description\": \"\"\n      }\n    },\n    {\n      \"column\": \"SkinThickness\",\n      \"properties\": {\n        \"dtype\": \"number\",\n        \"std\": 15,\n        \"min\": 0,\n        \"max\": 99,\n        \"num_unique_values\": 51,\n        \"samples\": [\n          7,\n          12,\n          48\n        ],\n        \"semantic_type\": \"\",\n        \"description\": \"\"\n      }\n    },\n    {\n      \"column\": \"Insulin\",\n      \"properties\": {\n        \"dtype\": \"number\",\n        \"std\": 115,\n        \"min\": 0,\n        \"max\": 846,\n        \"num_unique_values\": 186,\n        \"samples\": [\n          52,\n          41,\n          183\n        ],\n        \"semantic_type\": \"\",\n        \"description\": \"\"\n      }\n    },\n    {\n      \"column\": \"BMI\",\n      \"properties\": {\n        \"dtype\": \"number\",\n        \"std\": 7.8841603203754405,\n        \"min\": 0.0,\n        \"max\": 67.1,\n        \"num_unique_values\": 248,\n        \"samples\": [\n          19.9,\n          31.0,\n          38.1\n        ],\n        \"semantic_type\": \"\",\n        \"description\": \"\"\n      }\n    },\n    {\n      \"column\": \"DiabetesPedigreeFunction\",\n      \"properties\": {\n        \"dtype\": \"number\",\n        \"std\": 0.33132859501277484,\n        \"min\": 0.078,\n        \"max\": 2.42,\n        \"num_unique_values\": 517,\n        \"samples\": [\n          1.731,\n          0.426,\n          0.138\n        ],\n        \"semantic_type\": \"\",\n        \"description\": \"\"\n      }\n    },\n    {\n      \"column\": \"Age\",\n      \"properties\": {\n        \"dtype\": \"number\",\n        \"std\": 11,\n        \"min\": 21,\n        \"max\": 81,\n        \"num_unique_values\": 52,\n        \"samples\": [\n          60,\n          47,\n          72\n        ],\n        \"semantic_type\": \"\",\n        \"description\": \"\"\n      }\n    },\n    {\n      \"column\": \"Outcome\",\n      \"properties\": {\n        \"dtype\": \"number\",\n        \"std\": 0,\n        \"min\": 0,\n        \"max\": 1,\n        \"num_unique_values\": 2,\n        \"samples\": [\n          0,\n          1\n        ],\n        \"semantic_type\": \"\",\n        \"description\": \"\"\n      }\n    }\n  ]\n}"
            }
          },
          "metadata": {},
          "execution_count": 4
        }
      ],
      "source": [
        "data.head()"
      ]
    },
    {
      "cell_type": "code",
      "execution_count": 5,
      "id": "96d90c73-59c6-46d5-89b2-a86ba624b76e",
      "metadata": {
        "colab": {
          "base_uri": "https://localhost:8080/"
        },
        "id": "96d90c73-59c6-46d5-89b2-a86ba624b76e",
        "outputId": "081690b6-03ee-449c-eed4-23869c461453"
      },
      "outputs": [
        {
          "output_type": "execute_result",
          "data": {
            "text/plain": [
              "(768, 9)"
            ]
          },
          "metadata": {},
          "execution_count": 5
        }
      ],
      "source": [
        "data.shape"
      ]
    },
    {
      "cell_type": "code",
      "execution_count": 6,
      "id": "fd2ae98b-bb60-4521-b293-b26125467c8d",
      "metadata": {
        "colab": {
          "base_uri": "https://localhost:8080/"
        },
        "id": "fd2ae98b-bb60-4521-b293-b26125467c8d",
        "outputId": "bedcec86-d2ef-4519-cbfd-25d1744c486b"
      },
      "outputs": [
        {
          "output_type": "stream",
          "name": "stdout",
          "text": [
            "<class 'pandas.core.frame.DataFrame'>\n",
            "RangeIndex: 768 entries, 0 to 767\n",
            "Data columns (total 9 columns):\n",
            " #   Column                    Non-Null Count  Dtype  \n",
            "---  ------                    --------------  -----  \n",
            " 0   Pregnancies               768 non-null    int64  \n",
            " 1   Glucose                   768 non-null    int64  \n",
            " 2   BloodPressure             768 non-null    int64  \n",
            " 3   SkinThickness             768 non-null    int64  \n",
            " 4   Insulin                   768 non-null    int64  \n",
            " 5   BMI                       768 non-null    float64\n",
            " 6   DiabetesPedigreeFunction  768 non-null    float64\n",
            " 7   Age                       768 non-null    int64  \n",
            " 8   Outcome                   768 non-null    int64  \n",
            "dtypes: float64(2), int64(7)\n",
            "memory usage: 54.1 KB\n"
          ]
        }
      ],
      "source": [
        "data.info()"
      ]
    },
    {
      "cell_type": "code",
      "execution_count": 7,
      "id": "3b540bac-1db4-4d84-973b-5e450a26602f",
      "metadata": {
        "colab": {
          "base_uri": "https://localhost:8080/",
          "height": 300
        },
        "id": "3b540bac-1db4-4d84-973b-5e450a26602f",
        "outputId": "c4f95724-3847-4745-876b-dce7e9040647"
      },
      "outputs": [
        {
          "output_type": "execute_result",
          "data": {
            "text/plain": [
              "       Pregnancies     Glucose  BloodPressure  SkinThickness     Insulin  \\\n",
              "count   768.000000  768.000000     768.000000     768.000000  768.000000   \n",
              "mean      3.845052  120.894531      69.105469      20.536458   79.799479   \n",
              "std       3.369578   31.972618      19.355807      15.952218  115.244002   \n",
              "min       0.000000    0.000000       0.000000       0.000000    0.000000   \n",
              "25%       1.000000   99.000000      62.000000       0.000000    0.000000   \n",
              "50%       3.000000  117.000000      72.000000      23.000000   30.500000   \n",
              "75%       6.000000  140.250000      80.000000      32.000000  127.250000   \n",
              "max      17.000000  199.000000     122.000000      99.000000  846.000000   \n",
              "\n",
              "              BMI  DiabetesPedigreeFunction         Age     Outcome  \n",
              "count  768.000000                768.000000  768.000000  768.000000  \n",
              "mean    31.992578                  0.471876   33.240885    0.348958  \n",
              "std      7.884160                  0.331329   11.760232    0.476951  \n",
              "min      0.000000                  0.078000   21.000000    0.000000  \n",
              "25%     27.300000                  0.243750   24.000000    0.000000  \n",
              "50%     32.000000                  0.372500   29.000000    0.000000  \n",
              "75%     36.600000                  0.626250   41.000000    1.000000  \n",
              "max     67.100000                  2.420000   81.000000    1.000000  "
            ],
            "text/html": [
              "\n",
              "  <div id=\"df-0b57c6d3-464c-47b2-b48c-63bb787f3c09\" class=\"colab-df-container\">\n",
              "    <div>\n",
              "<style scoped>\n",
              "    .dataframe tbody tr th:only-of-type {\n",
              "        vertical-align: middle;\n",
              "    }\n",
              "\n",
              "    .dataframe tbody tr th {\n",
              "        vertical-align: top;\n",
              "    }\n",
              "\n",
              "    .dataframe thead th {\n",
              "        text-align: right;\n",
              "    }\n",
              "</style>\n",
              "<table border=\"1\" class=\"dataframe\">\n",
              "  <thead>\n",
              "    <tr style=\"text-align: right;\">\n",
              "      <th></th>\n",
              "      <th>Pregnancies</th>\n",
              "      <th>Glucose</th>\n",
              "      <th>BloodPressure</th>\n",
              "      <th>SkinThickness</th>\n",
              "      <th>Insulin</th>\n",
              "      <th>BMI</th>\n",
              "      <th>DiabetesPedigreeFunction</th>\n",
              "      <th>Age</th>\n",
              "      <th>Outcome</th>\n",
              "    </tr>\n",
              "  </thead>\n",
              "  <tbody>\n",
              "    <tr>\n",
              "      <th>count</th>\n",
              "      <td>768.000000</td>\n",
              "      <td>768.000000</td>\n",
              "      <td>768.000000</td>\n",
              "      <td>768.000000</td>\n",
              "      <td>768.000000</td>\n",
              "      <td>768.000000</td>\n",
              "      <td>768.000000</td>\n",
              "      <td>768.000000</td>\n",
              "      <td>768.000000</td>\n",
              "    </tr>\n",
              "    <tr>\n",
              "      <th>mean</th>\n",
              "      <td>3.845052</td>\n",
              "      <td>120.894531</td>\n",
              "      <td>69.105469</td>\n",
              "      <td>20.536458</td>\n",
              "      <td>79.799479</td>\n",
              "      <td>31.992578</td>\n",
              "      <td>0.471876</td>\n",
              "      <td>33.240885</td>\n",
              "      <td>0.348958</td>\n",
              "    </tr>\n",
              "    <tr>\n",
              "      <th>std</th>\n",
              "      <td>3.369578</td>\n",
              "      <td>31.972618</td>\n",
              "      <td>19.355807</td>\n",
              "      <td>15.952218</td>\n",
              "      <td>115.244002</td>\n",
              "      <td>7.884160</td>\n",
              "      <td>0.331329</td>\n",
              "      <td>11.760232</td>\n",
              "      <td>0.476951</td>\n",
              "    </tr>\n",
              "    <tr>\n",
              "      <th>min</th>\n",
              "      <td>0.000000</td>\n",
              "      <td>0.000000</td>\n",
              "      <td>0.000000</td>\n",
              "      <td>0.000000</td>\n",
              "      <td>0.000000</td>\n",
              "      <td>0.000000</td>\n",
              "      <td>0.078000</td>\n",
              "      <td>21.000000</td>\n",
              "      <td>0.000000</td>\n",
              "    </tr>\n",
              "    <tr>\n",
              "      <th>25%</th>\n",
              "      <td>1.000000</td>\n",
              "      <td>99.000000</td>\n",
              "      <td>62.000000</td>\n",
              "      <td>0.000000</td>\n",
              "      <td>0.000000</td>\n",
              "      <td>27.300000</td>\n",
              "      <td>0.243750</td>\n",
              "      <td>24.000000</td>\n",
              "      <td>0.000000</td>\n",
              "    </tr>\n",
              "    <tr>\n",
              "      <th>50%</th>\n",
              "      <td>3.000000</td>\n",
              "      <td>117.000000</td>\n",
              "      <td>72.000000</td>\n",
              "      <td>23.000000</td>\n",
              "      <td>30.500000</td>\n",
              "      <td>32.000000</td>\n",
              "      <td>0.372500</td>\n",
              "      <td>29.000000</td>\n",
              "      <td>0.000000</td>\n",
              "    </tr>\n",
              "    <tr>\n",
              "      <th>75%</th>\n",
              "      <td>6.000000</td>\n",
              "      <td>140.250000</td>\n",
              "      <td>80.000000</td>\n",
              "      <td>32.000000</td>\n",
              "      <td>127.250000</td>\n",
              "      <td>36.600000</td>\n",
              "      <td>0.626250</td>\n",
              "      <td>41.000000</td>\n",
              "      <td>1.000000</td>\n",
              "    </tr>\n",
              "    <tr>\n",
              "      <th>max</th>\n",
              "      <td>17.000000</td>\n",
              "      <td>199.000000</td>\n",
              "      <td>122.000000</td>\n",
              "      <td>99.000000</td>\n",
              "      <td>846.000000</td>\n",
              "      <td>67.100000</td>\n",
              "      <td>2.420000</td>\n",
              "      <td>81.000000</td>\n",
              "      <td>1.000000</td>\n",
              "    </tr>\n",
              "  </tbody>\n",
              "</table>\n",
              "</div>\n",
              "    <div class=\"colab-df-buttons\">\n",
              "\n",
              "  <div class=\"colab-df-container\">\n",
              "    <button class=\"colab-df-convert\" onclick=\"convertToInteractive('df-0b57c6d3-464c-47b2-b48c-63bb787f3c09')\"\n",
              "            title=\"Convert this dataframe to an interactive table.\"\n",
              "            style=\"display:none;\">\n",
              "\n",
              "  <svg xmlns=\"http://www.w3.org/2000/svg\" height=\"24px\" viewBox=\"0 -960 960 960\">\n",
              "    <path d=\"M120-120v-720h720v720H120Zm60-500h600v-160H180v160Zm220 220h160v-160H400v160Zm0 220h160v-160H400v160ZM180-400h160v-160H180v160Zm440 0h160v-160H620v160ZM180-180h160v-160H180v160Zm440 0h160v-160H620v160Z\"/>\n",
              "  </svg>\n",
              "    </button>\n",
              "\n",
              "  <style>\n",
              "    .colab-df-container {\n",
              "      display:flex;\n",
              "      gap: 12px;\n",
              "    }\n",
              "\n",
              "    .colab-df-convert {\n",
              "      background-color: #E8F0FE;\n",
              "      border: none;\n",
              "      border-radius: 50%;\n",
              "      cursor: pointer;\n",
              "      display: none;\n",
              "      fill: #1967D2;\n",
              "      height: 32px;\n",
              "      padding: 0 0 0 0;\n",
              "      width: 32px;\n",
              "    }\n",
              "\n",
              "    .colab-df-convert:hover {\n",
              "      background-color: #E2EBFA;\n",
              "      box-shadow: 0px 1px 2px rgba(60, 64, 67, 0.3), 0px 1px 3px 1px rgba(60, 64, 67, 0.15);\n",
              "      fill: #174EA6;\n",
              "    }\n",
              "\n",
              "    .colab-df-buttons div {\n",
              "      margin-bottom: 4px;\n",
              "    }\n",
              "\n",
              "    [theme=dark] .colab-df-convert {\n",
              "      background-color: #3B4455;\n",
              "      fill: #D2E3FC;\n",
              "    }\n",
              "\n",
              "    [theme=dark] .colab-df-convert:hover {\n",
              "      background-color: #434B5C;\n",
              "      box-shadow: 0px 1px 3px 1px rgba(0, 0, 0, 0.15);\n",
              "      filter: drop-shadow(0px 1px 2px rgba(0, 0, 0, 0.3));\n",
              "      fill: #FFFFFF;\n",
              "    }\n",
              "  </style>\n",
              "\n",
              "    <script>\n",
              "      const buttonEl =\n",
              "        document.querySelector('#df-0b57c6d3-464c-47b2-b48c-63bb787f3c09 button.colab-df-convert');\n",
              "      buttonEl.style.display =\n",
              "        google.colab.kernel.accessAllowed ? 'block' : 'none';\n",
              "\n",
              "      async function convertToInteractive(key) {\n",
              "        const element = document.querySelector('#df-0b57c6d3-464c-47b2-b48c-63bb787f3c09');\n",
              "        const dataTable =\n",
              "          await google.colab.kernel.invokeFunction('convertToInteractive',\n",
              "                                                    [key], {});\n",
              "        if (!dataTable) return;\n",
              "\n",
              "        const docLinkHtml = 'Like what you see? Visit the ' +\n",
              "          '<a target=\"_blank\" href=https://colab.research.google.com/notebooks/data_table.ipynb>data table notebook</a>'\n",
              "          + ' to learn more about interactive tables.';\n",
              "        element.innerHTML = '';\n",
              "        dataTable['output_type'] = 'display_data';\n",
              "        await google.colab.output.renderOutput(dataTable, element);\n",
              "        const docLink = document.createElement('div');\n",
              "        docLink.innerHTML = docLinkHtml;\n",
              "        element.appendChild(docLink);\n",
              "      }\n",
              "    </script>\n",
              "  </div>\n",
              "\n",
              "\n",
              "<div id=\"df-7fc7eef6-0534-48f3-b144-0e99e4a259ad\">\n",
              "  <button class=\"colab-df-quickchart\" onclick=\"quickchart('df-7fc7eef6-0534-48f3-b144-0e99e4a259ad')\"\n",
              "            title=\"Suggest charts\"\n",
              "            style=\"display:none;\">\n",
              "\n",
              "<svg xmlns=\"http://www.w3.org/2000/svg\" height=\"24px\"viewBox=\"0 0 24 24\"\n",
              "     width=\"24px\">\n",
              "    <g>\n",
              "        <path d=\"M19 3H5c-1.1 0-2 .9-2 2v14c0 1.1.9 2 2 2h14c1.1 0 2-.9 2-2V5c0-1.1-.9-2-2-2zM9 17H7v-7h2v7zm4 0h-2V7h2v10zm4 0h-2v-4h2v4z\"/>\n",
              "    </g>\n",
              "</svg>\n",
              "  </button>\n",
              "\n",
              "<style>\n",
              "  .colab-df-quickchart {\n",
              "      --bg-color: #E8F0FE;\n",
              "      --fill-color: #1967D2;\n",
              "      --hover-bg-color: #E2EBFA;\n",
              "      --hover-fill-color: #174EA6;\n",
              "      --disabled-fill-color: #AAA;\n",
              "      --disabled-bg-color: #DDD;\n",
              "  }\n",
              "\n",
              "  [theme=dark] .colab-df-quickchart {\n",
              "      --bg-color: #3B4455;\n",
              "      --fill-color: #D2E3FC;\n",
              "      --hover-bg-color: #434B5C;\n",
              "      --hover-fill-color: #FFFFFF;\n",
              "      --disabled-bg-color: #3B4455;\n",
              "      --disabled-fill-color: #666;\n",
              "  }\n",
              "\n",
              "  .colab-df-quickchart {\n",
              "    background-color: var(--bg-color);\n",
              "    border: none;\n",
              "    border-radius: 50%;\n",
              "    cursor: pointer;\n",
              "    display: none;\n",
              "    fill: var(--fill-color);\n",
              "    height: 32px;\n",
              "    padding: 0;\n",
              "    width: 32px;\n",
              "  }\n",
              "\n",
              "  .colab-df-quickchart:hover {\n",
              "    background-color: var(--hover-bg-color);\n",
              "    box-shadow: 0 1px 2px rgba(60, 64, 67, 0.3), 0 1px 3px 1px rgba(60, 64, 67, 0.15);\n",
              "    fill: var(--button-hover-fill-color);\n",
              "  }\n",
              "\n",
              "  .colab-df-quickchart-complete:disabled,\n",
              "  .colab-df-quickchart-complete:disabled:hover {\n",
              "    background-color: var(--disabled-bg-color);\n",
              "    fill: var(--disabled-fill-color);\n",
              "    box-shadow: none;\n",
              "  }\n",
              "\n",
              "  .colab-df-spinner {\n",
              "    border: 2px solid var(--fill-color);\n",
              "    border-color: transparent;\n",
              "    border-bottom-color: var(--fill-color);\n",
              "    animation:\n",
              "      spin 1s steps(1) infinite;\n",
              "  }\n",
              "\n",
              "  @keyframes spin {\n",
              "    0% {\n",
              "      border-color: transparent;\n",
              "      border-bottom-color: var(--fill-color);\n",
              "      border-left-color: var(--fill-color);\n",
              "    }\n",
              "    20% {\n",
              "      border-color: transparent;\n",
              "      border-left-color: var(--fill-color);\n",
              "      border-top-color: var(--fill-color);\n",
              "    }\n",
              "    30% {\n",
              "      border-color: transparent;\n",
              "      border-left-color: var(--fill-color);\n",
              "      border-top-color: var(--fill-color);\n",
              "      border-right-color: var(--fill-color);\n",
              "    }\n",
              "    40% {\n",
              "      border-color: transparent;\n",
              "      border-right-color: var(--fill-color);\n",
              "      border-top-color: var(--fill-color);\n",
              "    }\n",
              "    60% {\n",
              "      border-color: transparent;\n",
              "      border-right-color: var(--fill-color);\n",
              "    }\n",
              "    80% {\n",
              "      border-color: transparent;\n",
              "      border-right-color: var(--fill-color);\n",
              "      border-bottom-color: var(--fill-color);\n",
              "    }\n",
              "    90% {\n",
              "      border-color: transparent;\n",
              "      border-bottom-color: var(--fill-color);\n",
              "    }\n",
              "  }\n",
              "</style>\n",
              "\n",
              "  <script>\n",
              "    async function quickchart(key) {\n",
              "      const quickchartButtonEl =\n",
              "        document.querySelector('#' + key + ' button');\n",
              "      quickchartButtonEl.disabled = true;  // To prevent multiple clicks.\n",
              "      quickchartButtonEl.classList.add('colab-df-spinner');\n",
              "      try {\n",
              "        const charts = await google.colab.kernel.invokeFunction(\n",
              "            'suggestCharts', [key], {});\n",
              "      } catch (error) {\n",
              "        console.error('Error during call to suggestCharts:', error);\n",
              "      }\n",
              "      quickchartButtonEl.classList.remove('colab-df-spinner');\n",
              "      quickchartButtonEl.classList.add('colab-df-quickchart-complete');\n",
              "    }\n",
              "    (() => {\n",
              "      let quickchartButtonEl =\n",
              "        document.querySelector('#df-7fc7eef6-0534-48f3-b144-0e99e4a259ad button');\n",
              "      quickchartButtonEl.style.display =\n",
              "        google.colab.kernel.accessAllowed ? 'block' : 'none';\n",
              "    })();\n",
              "  </script>\n",
              "</div>\n",
              "\n",
              "    </div>\n",
              "  </div>\n"
            ],
            "application/vnd.google.colaboratory.intrinsic+json": {
              "type": "dataframe",
              "summary": "{\n  \"name\": \"data\",\n  \"rows\": 8,\n  \"fields\": [\n    {\n      \"column\": \"Pregnancies\",\n      \"properties\": {\n        \"dtype\": \"number\",\n        \"std\": 269.85223453356366,\n        \"min\": 0.0,\n        \"max\": 768.0,\n        \"num_unique_values\": 8,\n        \"samples\": [\n          3.8450520833333335,\n          3.0,\n          768.0\n        ],\n        \"semantic_type\": \"\",\n        \"description\": \"\"\n      }\n    },\n    {\n      \"column\": \"Glucose\",\n      \"properties\": {\n        \"dtype\": \"number\",\n        \"std\": 243.73802348295857,\n        \"min\": 0.0,\n        \"max\": 768.0,\n        \"num_unique_values\": 8,\n        \"samples\": [\n          120.89453125,\n          117.0,\n          768.0\n        ],\n        \"semantic_type\": \"\",\n        \"description\": \"\"\n      }\n    },\n    {\n      \"column\": \"BloodPressure\",\n      \"properties\": {\n        \"dtype\": \"number\",\n        \"std\": 252.85250535810619,\n        \"min\": 0.0,\n        \"max\": 768.0,\n        \"num_unique_values\": 8,\n        \"samples\": [\n          69.10546875,\n          72.0,\n          768.0\n        ],\n        \"semantic_type\": \"\",\n        \"description\": \"\"\n      }\n    },\n    {\n      \"column\": \"SkinThickness\",\n      \"properties\": {\n        \"dtype\": \"number\",\n        \"std\": 263.7684730531098,\n        \"min\": 0.0,\n        \"max\": 768.0,\n        \"num_unique_values\": 7,\n        \"samples\": [\n          768.0,\n          20.536458333333332,\n          32.0\n        ],\n        \"semantic_type\": \"\",\n        \"description\": \"\"\n      }\n    },\n    {\n      \"column\": \"Insulin\",\n      \"properties\": {\n        \"dtype\": \"number\",\n        \"std\": 350.26059167945886,\n        \"min\": 0.0,\n        \"max\": 846.0,\n        \"num_unique_values\": 7,\n        \"samples\": [\n          768.0,\n          79.79947916666667,\n          127.25\n        ],\n        \"semantic_type\": \"\",\n        \"description\": \"\"\n      }\n    },\n    {\n      \"column\": \"BMI\",\n      \"properties\": {\n        \"dtype\": \"number\",\n        \"std\": 262.05117817552093,\n        \"min\": 0.0,\n        \"max\": 768.0,\n        \"num_unique_values\": 8,\n        \"samples\": [\n          31.992578124999998,\n          32.0,\n          768.0\n        ],\n        \"semantic_type\": \"\",\n        \"description\": \"\"\n      }\n    },\n    {\n      \"column\": \"DiabetesPedigreeFunction\",\n      \"properties\": {\n        \"dtype\": \"number\",\n        \"std\": 271.3005221658502,\n        \"min\": 0.078,\n        \"max\": 768.0,\n        \"num_unique_values\": 8,\n        \"samples\": [\n          0.47187630208333325,\n          0.3725,\n          768.0\n        ],\n        \"semantic_type\": \"\",\n        \"description\": \"\"\n      }\n    },\n    {\n      \"column\": \"Age\",\n      \"properties\": {\n        \"dtype\": \"number\",\n        \"std\": 260.1941178528413,\n        \"min\": 11.76023154067868,\n        \"max\": 768.0,\n        \"num_unique_values\": 8,\n        \"samples\": [\n          33.240885416666664,\n          29.0,\n          768.0\n        ],\n        \"semantic_type\": \"\",\n        \"description\": \"\"\n      }\n    },\n    {\n      \"column\": \"Outcome\",\n      \"properties\": {\n        \"dtype\": \"number\",\n        \"std\": 271.3865920388932,\n        \"min\": 0.0,\n        \"max\": 768.0,\n        \"num_unique_values\": 5,\n        \"samples\": [\n          0.3489583333333333,\n          1.0,\n          0.4769513772427971\n        ],\n        \"semantic_type\": \"\",\n        \"description\": \"\"\n      }\n    }\n  ]\n}"
            }
          },
          "metadata": {},
          "execution_count": 7
        }
      ],
      "source": [
        "data.describe()"
      ]
    },
    {
      "cell_type": "code",
      "execution_count": 8,
      "id": "26f0c706-f453-46b8-9f66-81f158ce2ec1",
      "metadata": {
        "colab": {
          "base_uri": "https://localhost:8080/"
        },
        "id": "26f0c706-f453-46b8-9f66-81f158ce2ec1",
        "outputId": "b77394c9-cdfb-4b63-c043-7bc85b977e98"
      },
      "outputs": [
        {
          "output_type": "execute_result",
          "data": {
            "text/plain": [
              "0"
            ]
          },
          "metadata": {},
          "execution_count": 8
        }
      ],
      "source": [
        "data.duplicated().sum()\n",
        "data_transposed = data.T\n",
        "data_transposed.duplicated().sum()"
      ]
    },
    {
      "cell_type": "code",
      "execution_count": 9,
      "id": "6ce2b816-ac0b-403b-ac5c-22771fb28740",
      "metadata": {
        "colab": {
          "base_uri": "https://localhost:8080/",
          "height": 366
        },
        "id": "6ce2b816-ac0b-403b-ac5c-22771fb28740",
        "outputId": "1173a66d-29b5-432a-c6e9-0f5ffadafbad"
      },
      "outputs": [
        {
          "output_type": "execute_result",
          "data": {
            "text/plain": [
              "Pregnancies                 0\n",
              "Glucose                     0\n",
              "BloodPressure               0\n",
              "SkinThickness               0\n",
              "Insulin                     0\n",
              "BMI                         0\n",
              "DiabetesPedigreeFunction    0\n",
              "Age                         0\n",
              "Outcome                     0\n",
              "dtype: int64"
            ],
            "text/html": [
              "<div>\n",
              "<style scoped>\n",
              "    .dataframe tbody tr th:only-of-type {\n",
              "        vertical-align: middle;\n",
              "    }\n",
              "\n",
              "    .dataframe tbody tr th {\n",
              "        vertical-align: top;\n",
              "    }\n",
              "\n",
              "    .dataframe thead th {\n",
              "        text-align: right;\n",
              "    }\n",
              "</style>\n",
              "<table border=\"1\" class=\"dataframe\">\n",
              "  <thead>\n",
              "    <tr style=\"text-align: right;\">\n",
              "      <th></th>\n",
              "      <th>0</th>\n",
              "    </tr>\n",
              "  </thead>\n",
              "  <tbody>\n",
              "    <tr>\n",
              "      <th>Pregnancies</th>\n",
              "      <td>0</td>\n",
              "    </tr>\n",
              "    <tr>\n",
              "      <th>Glucose</th>\n",
              "      <td>0</td>\n",
              "    </tr>\n",
              "    <tr>\n",
              "      <th>BloodPressure</th>\n",
              "      <td>0</td>\n",
              "    </tr>\n",
              "    <tr>\n",
              "      <th>SkinThickness</th>\n",
              "      <td>0</td>\n",
              "    </tr>\n",
              "    <tr>\n",
              "      <th>Insulin</th>\n",
              "      <td>0</td>\n",
              "    </tr>\n",
              "    <tr>\n",
              "      <th>BMI</th>\n",
              "      <td>0</td>\n",
              "    </tr>\n",
              "    <tr>\n",
              "      <th>DiabetesPedigreeFunction</th>\n",
              "      <td>0</td>\n",
              "    </tr>\n",
              "    <tr>\n",
              "      <th>Age</th>\n",
              "      <td>0</td>\n",
              "    </tr>\n",
              "    <tr>\n",
              "      <th>Outcome</th>\n",
              "      <td>0</td>\n",
              "    </tr>\n",
              "  </tbody>\n",
              "</table>\n",
              "</div><br><label><b>dtype:</b> int64</label>"
            ]
          },
          "metadata": {},
          "execution_count": 9
        }
      ],
      "source": [
        "data.isnull().sum()\n"
      ]
    },
    {
      "cell_type": "code",
      "execution_count": 10,
      "id": "74138cf5-d0f3-4a7c-bf72-5c878dd67998",
      "metadata": {
        "colab": {
          "base_uri": "https://localhost:8080/"
        },
        "id": "74138cf5-d0f3-4a7c-bf72-5c878dd67998",
        "outputId": "bf219948-9bc0-4465-baa8-ae7f2359b379"
      },
      "outputs": [
        {
          "output_type": "stream",
          "name": "stdout",
          "text": [
            "Pregnancies Summary:\n",
            "         Pregnancies\n",
            "Outcome             \n",
            "0           3.298000\n",
            "1           4.865672\n",
            "\n",
            "\n",
            "Glucose Summary:\n",
            "            Glucose\n",
            "Outcome            \n",
            "0        109.980000\n",
            "1        141.257463\n",
            "\n",
            "\n",
            "BloodPressure Summary:\n",
            "         BloodPressure\n",
            "Outcome               \n",
            "0            68.184000\n",
            "1            70.824627\n",
            "\n",
            "\n",
            "SkinThickness Summary:\n",
            "         SkinThickness\n",
            "Outcome               \n",
            "0            19.664000\n",
            "1            22.164179\n",
            "\n",
            "\n",
            "Insulin Summary:\n",
            "            Insulin\n",
            "Outcome            \n",
            "0         68.792000\n",
            "1        100.335821\n",
            "\n",
            "\n",
            "BMI Summary:\n",
            "               BMI\n",
            "Outcome           \n",
            "0        30.304200\n",
            "1        35.142537\n",
            "\n",
            "\n",
            "DiabetesPedigreeFunction Summary:\n",
            "         DiabetesPedigreeFunction\n",
            "Outcome                          \n",
            "0                        0.429734\n",
            "1                        0.550500\n",
            "\n",
            "\n",
            "Age Summary:\n",
            "               Age\n",
            "Outcome           \n",
            "0        31.190000\n",
            "1        37.067164\n",
            "\n",
            "\n"
          ]
        }
      ],
      "source": [
        "cols = [col for col in data.columns if \"Outcome\" not in col]\n",
        "\n",
        "\n",
        "def target_summary_with_num(dataframe, target, numerical_col):\n",
        "    print(f\"{numerical_col} Summary:\")\n",
        "    print(dataframe.groupby(target).agg({numerical_col: \"mean\"}), end=\"\\n\\n\\n\")\n",
        "\n",
        "\n",
        "for col in cols:\n",
        "    target_summary_with_num(data, \"Outcome\", col)\n"
      ]
    },
    {
      "cell_type": "markdown",
      "id": "e3099eb5-3073-414a-b2b6-6b84c1350482",
      "metadata": {
        "id": "e3099eb5-3073-414a-b2b6-6b84c1350482"
      },
      "source": [
        "### **Data Preprocessing**"
      ]
    },
    {
      "cell_type": "code",
      "execution_count": 11,
      "id": "b48af187-ae8a-4423-a289-d0054cadb84f",
      "metadata": {
        "scrolled": true,
        "colab": {
          "base_uri": "https://localhost:8080/"
        },
        "id": "b48af187-ae8a-4423-a289-d0054cadb84f",
        "outputId": "b30c4eee-17ee-4267-810e-f94b373a48d9"
      },
      "outputs": [
        {
          "output_type": "stream",
          "name": "stdout",
          "text": [
            "Updated Dataset:\n",
            "       Pregnancies     Glucose  BloodPressure  SkinThickness     Insulin  \\\n",
            "count   768.000000  768.000000     768.000000     768.000000  768.000000   \n",
            "mean      3.845052  121.681605      72.254807      26.606479  118.660163   \n",
            "std       3.369578   30.436016      12.115932       9.631241   93.080358   \n",
            "min       0.000000   44.000000      24.000000       7.000000   14.000000   \n",
            "25%       1.000000   99.750000      64.000000      20.536458   79.799479   \n",
            "50%       3.000000  117.000000      72.000000      23.000000   79.799479   \n",
            "75%       6.000000  140.250000      80.000000      32.000000  127.250000   \n",
            "max      17.000000  199.000000     122.000000      99.000000  846.000000   \n",
            "\n",
            "              BMI  DiabetesPedigreeFunction         Age     Outcome  \n",
            "count  768.000000                768.000000  768.000000  768.000000  \n",
            "mean    32.450805                  0.471876   33.240885    0.348958  \n",
            "std      6.875374                  0.331329   11.760232    0.476951  \n",
            "min     18.200000                  0.078000   21.000000    0.000000  \n",
            "25%     27.500000                  0.243750   24.000000    0.000000  \n",
            "50%     32.000000                  0.372500   29.000000    0.000000  \n",
            "75%     36.600000                  0.626250   41.000000    1.000000  \n",
            "max     67.100000                  2.420000   81.000000    1.000000  \n"
          ]
        }
      ],
      "source": [
        "data_copy = data.copy(deep=True)\n",
        "\n",
        "data_copy['BMI'] = data_copy['BMI'].replace(0, data_copy['BMI'].mean())\n",
        "data_copy['BloodPressure'] = data_copy['BloodPressure'].replace(0, data_copy['BloodPressure'].mean())\n",
        "data_copy['Glucose'] = data_copy['Glucose'].replace(0, data_copy['Glucose'].mean())\n",
        "data_copy['Insulin'] = data_copy['Insulin'].replace(0, data_copy['Insulin'].mean())\n",
        "data_copy['SkinThickness'] = data_copy['SkinThickness'].replace(0, data_copy['SkinThickness'].mean())\n",
        "\n",
        "\n",
        "print(\"Updated Dataset:\")\n",
        "print(data_copy.describe())\n"
      ]
    },
    {
      "cell_type": "markdown",
      "id": "b3db6ef6-17b8-482c-b08b-07708bb525f5",
      "metadata": {
        "id": "b3db6ef6-17b8-482c-b08b-07708bb525f5"
      },
      "source": [
        "### **Data Visualisation**"
      ]
    },
    {
      "cell_type": "code",
      "execution_count": 12,
      "id": "5b1cb3d6-44bc-42d3-abb9-2b167da41e82",
      "metadata": {
        "colab": {
          "base_uri": "https://localhost:8080/"
        },
        "id": "5b1cb3d6-44bc-42d3-abb9-2b167da41e82",
        "outputId": "2df9fc51-d727-439d-c692-550c9d96bead"
      },
      "outputs": [
        {
          "output_type": "execute_result",
          "data": {
            "text/plain": [
              "dict_items([(1, 268), (0, 500)])"
            ]
          },
          "metadata": {},
          "execution_count": 12
        }
      ],
      "source": [
        "from collections import Counter\n",
        "count = Counter(data_copy['Outcome'])\n",
        "count.items()\n"
      ]
    },
    {
      "cell_type": "code",
      "execution_count": 13,
      "id": "4f6aa4f9-4a63-41eb-a5dd-e45be6f24465",
      "metadata": {
        "colab": {
          "base_uri": "https://localhost:8080/",
          "height": 472
        },
        "id": "4f6aa4f9-4a63-41eb-a5dd-e45be6f24465",
        "outputId": "b2b7c7dc-851e-4316-c6a2-31aa218c50ab"
      },
      "outputs": [
        {
          "output_type": "display_data",
          "data": {
            "text/plain": [
              "<Figure size 640x480 with 1 Axes>"
            ],
            "image/png": "[encoded data removed]"
          },
          "metadata": {}
        }
      ],
      "source": [
        "\n",
        "   sns.countplot(x='Outcome', data=data)\n",
        "   plt.title('Distribution of Diabetes Outcome')\n",
        "   plt.show()\n"
      ]
    },
    {
      "cell_type": "code",
      "execution_count": 14,
      "id": "1908c97c-2da2-4236-8a3b-cdb6ffc7fc75",
      "metadata": {
        "colab": {
          "base_uri": "https://localhost:8080/",
          "height": 866
        },
        "id": "1908c97c-2da2-4236-8a3b-cdb6ffc7fc75",
        "outputId": "bd8cf2a1-62d8-4220-de68-b10fe5a5d152"
      },
      "outputs": [
        {
          "output_type": "display_data",
          "data": {
            "text/plain": [
              "<Figure size 1000x800 with 2 Axes>"
            ],
            "image/png": "[encoded data removed]"
          },
          "metadata": {}
        }
      ],
      "source": [
        "\n",
        "plt.figure(figsize=(10, 8))\n",
        "sns.heatmap(data_copy.corr(), annot=True, cmap='coolwarm', fmt=\".2f\")\n",
        "plt.title('Correlation Matrix')\n",
        "plt.show()"
      ]
    },
    {
      "cell_type": "code",
      "execution_count": 15,
      "id": "fcaeb9ae-3a5a-46f2-8f34-18a5150f2b37",
      "metadata": {
        "colab": {
          "base_uri": "https://localhost:8080/",
          "height": 1000
        },
        "id": "fcaeb9ae-3a5a-46f2-8f34-18a5150f2b37",
        "outputId": "c99999e4-1ca0-4f4f-e672-145bef74426f"
      },
      "outputs": [
        {
          "output_type": "display_data",
          "data": {
            "text/plain": [
              "<Figure size 1000x1000 with 9 Axes>"
            ],
            "image/png": "[encoded data removed]"
          },
          "metadata": {}
        }
      ],
      "source": [
        "\n",
        "   data_copy.hist(bins=10, figsize=(10, 10))\n",
        "   plt.tight_layout()\n",
        "   plt.show()\n"
      ]
    },
    {
      "cell_type": "code",
      "execution_count": null,
      "id": "5448d1be-3fab-4061-abbf-382af4e15961",
      "metadata": {
        "id": "5448d1be-3fab-4061-abbf-382af4e15961"
      },
      "outputs": [],
      "source": [
        "\n",
        "   sns.pairplot(data_copy, hue='Outcome')\n",
        "   plt.show()\n"
      ]
    },
    {
      "cell_type": "markdown",
      "id": "a678517b-4181-48d5-b3b0-4d7e83e823f7",
      "metadata": {
        "id": "a678517b-4181-48d5-b3b0-4d7e83e823f7"
      },
      "source": [
        "### **Splitting data**"
      ]
    },
    {
      "cell_type": "code",
      "execution_count": null,
      "id": "f86e0fea-af31-458f-a5e9-ed0bc144ead6",
      "metadata": {
        "id": "f86e0fea-af31-458f-a5e9-ed0bc144ead6"
      },
      "outputs": [],
      "source": [
        "X = data_copy.drop(columns=[\"Outcome\"])\n",
        "y = data_copy[\"Outcome\"]\n",
        "\n",
        "X_train, X_test, y_train, y_test = train_test_split(X, y, test_size=0.2, random_state=42)"
      ]
    },
    {
      "cell_type": "markdown",
      "id": "757ef7d2-4f08-4f61-846f-771ce3adf92e",
      "metadata": {
        "id": "757ef7d2-4f08-4f61-846f-771ce3adf92e"
      },
      "source": [
        "### **Model Training**"
      ]
    },
    {
      "cell_type": "code",
      "execution_count": null,
      "id": "c63ed2df-d8c0-4110-b2ed-90c60382a29b",
      "metadata": {
        "id": "c63ed2df-d8c0-4110-b2ed-90c60382a29b"
      },
      "outputs": [],
      "source": [
        "model = LogisticRegression(max_iter=1000)\n",
        "model.fit(X_train, y_train)\n",
        "\n",
        "# Predict on the test set\n",
        "y_pred = model.predict(X_test)\n"
      ]
    },
    {
      "cell_type": "markdown",
      "id": "8fc279ba-13cb-490e-abc1-976b79a06c0e",
      "metadata": {
        "id": "8fc279ba-13cb-490e-abc1-976b79a06c0e"
      },
      "source": [
        "### **Diabetes Prediction**"
      ]
    },
    {
      "cell_type": "code",
      "execution_count": null,
      "id": "2d7e0399-9e5c-45e0-8428-bfd94c1a82db",
      "metadata": {
        "id": "2d7e0399-9e5c-45e0-8428-bfd94c1a82db"
      },
      "outputs": [],
      "source": [
        "\n",
        "predicted_outcomes = model.predict(X)\n",
        "\n",
        "\n",
        "data_copy[\"Predicted_Outcome\"] = predicted_outcomes\n",
        "\n",
        "\n",
        "print(data_copy.head())"
      ]
    },
    {
      "cell_type": "markdown",
      "id": "84798d82-ae9d-43d7-a2a8-a1d62c7e0f72",
      "metadata": {
        "id": "84798d82-ae9d-43d7-a2a8-a1d62c7e0f72"
      },
      "source": [
        "### **Model Evaluation**"
      ]
    },
    {
      "cell_type": "code",
      "execution_count": null,
      "id": "37b81ab6-a15b-4720-b0c8-7752d0360d4e",
      "metadata": {
        "id": "37b81ab6-a15b-4720-b0c8-7752d0360d4e"
      },
      "outputs": [],
      "source": [
        "\n",
        "print(classification_report(y_test, y_pred))\n",
        "\n",
        "\n",
        "conf_matrix = confusion_matrix(y_test, y_pred)\n",
        "sns.heatmap(conf_matrix, annot=True, fmt='d', cmap='viridis')\n",
        "plt.title('Confusion Matrix')\n",
        "plt.xlabel('Predicted')\n",
        "plt.ylabel('Actual')\n",
        "plt.show()\n"
      ]
    },
    {
      "cell_type": "code",
      "source": [
        "\n",
        "RocCurveDisplay.from_estimator(model, X_test, y_test)\n",
        "plt.title(\"ROC Curve\")\n",
        "plt.show()"
      ],
      "metadata": {
        "id": "ZNoQYQAGkfQG"
      },
      "id": "ZNoQYQAGkfQG",
      "execution_count": null,
      "outputs": []
    },
    {
      "cell_type": "markdown",
      "source": [
        "## Part D - Software Testing\n",
        "\n",
        "### Testing Methods\n",
        "To verify the correctness of the AI implementation, the following testing methods were used:\n",
        "\n",
        "#### 1. Validation of Preprocessing Steps\n",
        "Checking for Missing Values:\n",
        "Missing values in the dataset were checked using the `.isnull().sum()` method. This method identifies missing values for each column.\n",
        "This step ensured that data quality issues were addressed before model training.\n",
        "\n",
        "Handling Missing Values:\n",
        "For numerical columns such as `BMI`, missing values or invalid entries (e.g., zeros) were replaced with the column mean using `.replace()` and `.mean()`.\n",
        "This strategy kept the overall distribution of the data while lowering the loss of information.\n",
        "\n",
        " Validation After Preprocessing:\n",
        "Once missing values were handled, the dataset was rechecked using `.isnull().sum()` to confirm that no missing entries remained.\n",
        " invalid zeros were replaced in features like `BMI`, ensuring the dataset was ready for model training.\n",
        "\n",
        "#### 2. Performance Metrics\n",
        "The model's performance was evaluated using a classification report, which provided the following metrics for each class:\n",
        "Precision: The proprtion of true positive predictions out of all the predicted positives.\n",
        "Recall: The proportion of true positive predictions out of all the actual positives.\n",
        "F1-Score: balances the two metric while also containing the mean of precision and recall.\n",
        "Support: The number of actual times each class occurs in the dataset.\n",
        "These metrics helped in understanding the model’s strengths and weaknesses in classifying the two classes: `Diabetes` and `No Diabetes`.\n",
        "\n",
        "#### 3. Confusion Matrix Analysis\n",
        "A confusion matrix was generated to analyse the following:\n",
        "True Positives (TP): Cases where the model correctly predicted `Diabetes`.\n",
        "True Negatives (TN): Cases where the model correctly predicted `No Diabetes`.\n",
        "False Positives (FP): Cases where the model incorrectly predicted `Diabetes` for patients without diabetes.\n",
        "False Negatives (FN): Cases where the model failed to predict `Diabetes` for patients with diabetes.\n",
        "This analysis highlighted areas for improvement like reducing false negatives  and lowering the amount of false positives.\n",
        "\n",
        "#### 4. Prediction Validity\n",
        "The validity of the model's predictions was checked to ensure they were binary (0 or 1) as expected.\n",
        "This step ensured that the model outputs aligned with the binary classification problem and that no unexpected values (e.g., negative or non-integer predictions) were produced.\n",
        "\n",
        "### Results\n",
        "Accuracy: The model achieved an accuracy of 77%, meeting the baseline target I had set of 70%.\n",
        "Classification Metrics:\n",
        "Precision for class `0` was 81%, shows a strong performance in predicting negative cases.\n",
        "Precision for class `1` was 69%, showing some misclassifications for positive cases.\n",
        "Recall for class `1` was 64%, highlighting that some true positives were missed.\n",
        "Confusion Matrix:\n",
        "The confusion matrix revealed:\n",
        "20 false negatives: Cases where the model failed to detect diabetes. This is a critical issue as it could lead to missed diagnoses and delayed treatments.\n",
        "16 false positives: Cases where the model incorrectly predicted diabetes. While less severe than false negatives, this could result in unnecessary concern or treatment.\n",
        "\n",
        "### Conclusion\n",
        "The implementation passed all testing criteria. These include:\n",
        "Preprocessing steps were successfully validated.\n",
        "Performance metrics met expectations high percentage of predicting a person without and with diabetes, with accuracy of model being 77% which is sufficient.\n",
        "The confusion matrix helped revealmisclassifications which helped with the idea and possibility that there is an imbalance of data and further improvements suggestable such as balancing the dataset.\n"
      ],
      "metadata": {
        "id": "G-zOXp1psjd1"
      },
      "id": "G-zOXp1psjd1"
    },
    {
      "cell_type": "markdown",
      "source": [
        "##Part E - Evaluate results\n",
        "\n",
        "The accuracy of the logistic regression model in predicting diabetes had a score of 77%. This means that the model was able to predict the diabetes status accurately of 77% of the individuals in the dataset. Evaluation metrics, including precision, recall, and F1-score, help understand the model's performance in predicting diabetes. Precision for class 0 (No Diabetes) was 81% which means there were a low rate of false positives and can strongly identify non-diabetic cases. The precision score is a positive result as it lowers the chances of unnecessary concern or treatment for individuals who do not have diabetes. The precision for class 1 (Diabetes) was 69%. This score highlights that the model predicted diabetes occasionally incorrectly for non-diabetic individuals.\n",
        " The Recall rate for class 1 had a score of 64%, which means the model failed to identify at least 36% of true positives, despite detecting most cases. This recall rate is an issue in the context of the healthcare domain, as any missed diagnoses or false negatives could delay important treatments and lead to bad outcomes. The F1-score for class 1 was 66%, which shows the model struggles with accurately predicting diabetic cases. In the context of my chosen healthcare domain, there are consequences of misclassification, which can lead to significant issues, which highlights why these metrics emphasise the need to prioritise recall for diabetic cases over overall accuracy. False negatives were observed in 20 instances, and this is slightly problematic as they represent the cases where the model failed to identify individuals who were diabetic.\n",
        " However, false positives that happened in 16 instances and could have lead to unnecessary diagnostic procedures or anxiety for patients who aren't diabetic.\n",
        "The results demonstrate the strengths and limitations of the implementation. An advantage of the logistic regression model is that is known to be highly interpretable, which allows clinicians to understand the influence of each feature on the predictions. Each feature in the model is assigned a coefficient that calculates its impact on the outcome. For example, a positive coefficient for glucose levels would mean that higher glucose levels are associated with a higher likelihood of diabetes, while a negative coefficient for another feature, like the age of an idvidual might suggest that older age reduces the likelihood of diabetes. These coefficients help clinicians to see exactly how the model arrives at its predictions, offering a level of transparency that is often not available in more complex models like neural networks.\n",
        " An advantage of the model's ability was correctly identifying non-diabetic cases, supported by the high precision and recall for class 0. Data preprocessing is used for this dataset to check for missing values and clean the data. This allows the logistic regression model to perform considerably well. However, the limitations of the implementations are shown in its performance on class 1. The relatively low recall for diabetic cases suggests that the model is biased toward the majority class, which could be due to an imbalance in the dataset. Logistic regression is known to perform well in linear relationships but in this case might not involve complex interactions between features, which might have resulted in suboptimal performance.The dataset might be missing other health related features that could improve the model's ability to classify diabetic cases. In conclusion, the model's accuracy and evaluation metrics indicate that it performs well in predicting diabetes, but improvements are needed for it to be reliable in a healthcare setting."
      ],
      "metadata": {
        "id": "hITa_orvGhpQ"
      },
      "id": "hITa_orvGhpQ"
    },
    {
      "cell_type": "markdown",
      "id": "48c30402-29e3-410d-95bd-f9ff647defc8",
      "metadata": {
        "id": "48c30402-29e3-410d-95bd-f9ff647defc8"
      },
      "source": [
        "### References\n",
        "\n",
        "Deshpande, A.D., Harris-Hayes, M. and Schootman, M. (2008) 'Epidemiology of diabetes and diabetes-related complications', Physical Therapy, 88(11), pp. 1254–1264.\n",
        "OXFORD ACADEMIC\n",
        "\n",
        "Soni, A. and Varma, P. (2020) 'Application of Random Forest in predicting diabetes', Journal of Healthcare Informatics Research, 4(3), pp. 225–238.\n",
        "\n",
        "VijiyaKumar, A., Kumar, R. and Kumaravel, N. (2019) 'Random Forest-based prediction model for diabetes detection using Pima Indian Diabetes Dataset', International Journal of Advanced Computer Science and Applications, 10(6), pp. 123–130.\n",
        "\n",
        "Han, J., Kamber, M. and Pei, J. (2012) Data Mining: Concepts and Techniques. 3rd edn. Waltham, MA: Morgan Kaufmann.\n",
        "\n",
        "Mujumdar, P. and Vaidehi, V. (2019) 'Diabetes prediction using Support Vector Machine', International Journal of Emerging Technology and Advanced Engineering, 9(5), pp. 86–90.\n",
        "\n",
        "Shanker, M. (1996) 'Using neural networks to predict the onset of diabetes mellitus', Journal of Chemical Information and Computer Sciences, 36(1), pp. 35–41.\n",
        "\n",
        "Shulman, L.M., Singer, C., Bean, J. and Weiner, W.J. (2001) 'Parkinson's disease: insights from the looking glass', Journal of the American Geriatrics Society, 49(6), pp. 751–754.\n",
        "\n",
        "Rajendra, A. and Latifi, S. (2021) 'Predicting diabetes using logistic regression and ensemble machine learning techniques', Journal of Applied Mathematics and Computation, 5(3), pp. 123–134.\n",
        "\n",
        "Ellaham, S. (2020) 'K-means clustering in healthcare: A review', Journal of Healthcare Engineering, 2020, Article ID 8856578.\n",
        "\n",
        "Razavian, N., et al. (2015) 'Population-level prediction of type 2 diabetes from claims data and analysis of risk factors', Big Data, 3(4), pp. 277-287. doi: 10.1089/big.2015.0020.\n"
      ]
    }
  ],
  "metadata": {
    "kernelspec": {
      "display_name": "Python [conda env:base] *",
      "language": "python",
      "name": "conda-base-py"
    },
    "language_info": {
      "codemirror_mode": {
        "name": "ipython",
        "version": 3
      },
      "file_extension": ".py",
      "mimetype": "text/x-python",
      "name": "python",
      "nbconvert_exporter": "python",
      "pygments_lexer": "ipython3",
      "version": "3.12.7"
    },
    "colab": {
      "provenance": []
    }
  },
  "nbformat": 4,
  "nbformat_minor": 5
}